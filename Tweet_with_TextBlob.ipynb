{
 "cells": [
  {
   "cell_type": "code",
   "execution_count": 6,
   "metadata": {},
   "outputs": [
    {
     "name": "stdout",
     "output_type": "stream",
     "text": [
      "RT @PDXFoodAnalyst: Pollo al la Brasa\n",
      "@ El Inka\n",
      "Peruvian cuisine \n",
      "Gresham Oregon https://t.co/iRJdiFTRQE\n",
      "Sentiment(polarity=0.0, subjectivity=0.0)\n",
      "\n",
      "Peruvian Puff Pepper\n",
      "Sentiment(polarity=0.0, subjectivity=0.0)\n",
      "\n",
      "RT @AHistoryofPaint: 🎨 View of the Grand Canal with the Palazzo Cavalli-Franchetti (1885)\n",
      "\n",
      "~•❤•~ Federico del Campo ~•❤•~  (1837 - 1923) wa…\n",
      "Sentiment(polarity=0.5, subjectivity=1.0)\n",
      "\n",
      "Me and my all female field team searching for landslides in the Peruvian Andes #girlpower @facesfieldwork https://t.co/hjVhDtFQRt\n",
      "Sentiment(polarity=0.0, subjectivity=0.16666666666666666)\n",
      "\n",
      "RT @ClareAdeleHowe: Wow- PERUVIAN AMAZON TRIP 3 days from £450 https://t.co/hHWOIxRHXs  @latitudeJourney #kprs #87RT #peru #holiday https:/…\n",
      "Sentiment(polarity=0.1, subjectivity=1.0)\n",
      "\n",
      "Drinking a  Patrons Project 1.04 // LEEDS LURKING // Morello Cherry &amp; Peruvian Coffee Imperial Porter — https://t.co/a2vScb9OHO\n",
      "Sentiment(polarity=0.0, subjectivity=0.0)\n",
      "\n",
      "@schmidt_beverly she looks like she's having a bad hair day but that's her breed. She 75% Abyssinian 25% Peruvian\n",
      "Sentiment(polarity=-0.6999999999999998, subjectivity=0.6666666666666666)\n",
      "\n",
      "RT @SOMEXlCAN: The floor is \"tamales, tacos, tortas, https://t.co/dEayh0xTQE\n",
      "Sentiment(polarity=0.0, subjectivity=0.0)\n",
      "\n",
      "@SandiGardiner Peruvian Food is amazing. Enjoy everyone\n",
      "Sentiment(polarity=0.5, subjectivity=0.7)\n",
      "\n",
      "Wow- PERUVIAN AMAZON TRIP 3 days from £450 https://t.co/hHWOIxRHXs  @latitudeJourney #kprs #87RT #peru #holiday https://t.co/LdoyGiP8r1\n",
      "Sentiment(polarity=0.1, subjectivity=1.0)\n",
      "\n",
      "The #peruvian roof top #ornamentos are Known as Torito de Pucara, they are placed on the roof… https://t.co/iRdUOSvve2\n",
      "Sentiment(polarity=0.5, subjectivity=0.5)\n",
      "\n",
      "@tacitslumber Technically, I'm peruvian, but we speak Spanish so yay! We can help each other 😍💕\n",
      "Sentiment(polarity=-0.041666666666666664, subjectivity=0.15833333333333333)\n",
      "\n",
      "RT @AHistoryofPaint: 🎨 View of the Grand Canal with the Palazzo Cavalli-Franchetti (1885)\n",
      "\n",
      "~•❤•~ Federico del Campo ~•❤•~  (1837 - 1923) wa…\n",
      "Sentiment(polarity=0.5, subjectivity=1.0)\n",
      "\n",
      "Go to hell #peruvian politicians\n",
      "Sentiment(polarity=0.0, subjectivity=0.0)\n",
      "\n",
      "Don’t miss @delcampodc’s Lunch Asado ft. Short Ribs, Peruvian Chicken, or Chorizo for $22 at #BBQGrillingWeek!\n",
      "Sentiment(polarity=-0.375, subjectivity=0.625)\n",
      "\n"
     ]
    }
   ],
   "source": [
    "# -*- coding: utf-8 -*-\n",
    "import sys\n",
    "import tweepy\n",
    "from textblob import TextBlob\n",
    "\n",
    "# Step 1 - Authenticate\n",
    "consumer_key= 'sDTAEVsCPs75fnTpP82FCHSe9'\n",
    "consumer_secret= 'e3uobZKX5xrLhweBk0d9TpRyHAzPawvkhaJCxQJtHL1KbFskm0'\n",
    "\n",
    "access_token='874471990014488576-qPaatSuF6GcL5G2LGhJULxL5nf2oWsC'\n",
    "access_token_secret='tNkxoAox9pbYG19bv4dsnxsCh76YtuoMzQcTSL9Cozwk6'\n",
    "\n",
    "auth = tweepy.OAuthHandler(consumer_key, consumer_secret)\n",
    "auth.set_access_token(access_token, access_token_secret)\n",
    "\n",
    "api = tweepy.API(auth)\n",
    "\n",
    "#Step 3 - Retrieve Tweets\n",
    "# fh = open('db.txt', 'w') \n",
    "public_tweets = api.search('peruvian')\n",
    "\n",
    "\n",
    "for tweet in public_tweets:\n",
    "    print(tweet.text)\n",
    "    \n",
    "    #Step 4 Perform Sentiment Analysis on Tweets\n",
    "    # fh.write(tweet.text)\n",
    "    analysis = TextBlob(tweet.text)\n",
    "    print(analysis.sentiment)\n",
    "    print(\"\")"
   ]
  },
  {
   "cell_type": "code",
   "execution_count": null,
   "metadata": {
    "collapsed": true
   },
   "outputs": [],
   "source": []
  }
 ],
 "metadata": {
  "kernelspec": {
   "display_name": "Python 3",
   "language": "python",
   "name": "python3"
  },
  "language_info": {
   "codemirror_mode": {
    "name": "ipython",
    "version": 3
   },
   "file_extension": ".py",
   "mimetype": "text/x-python",
   "name": "python",
   "nbconvert_exporter": "python",
   "pygments_lexer": "ipython3",
   "version": "3.5.3"
  }
 },
 "nbformat": 4,
 "nbformat_minor": 2
}
